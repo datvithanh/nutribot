{
 "cells": [
  {
   "cell_type": "code",
   "execution_count": 4,
   "metadata": {},
   "outputs": [
    {
     "name": "stdout",
     "output_type": "stream",
     "text": [
      "{\n",
      "  \"intents\": [\n",
      "    {\n",
      "      \"intent\": \"general_greetings\",\n",
      "      \"confidence\": 1\n",
      "    }\n",
      "  ],\n",
      "  \"entities\": [],\n",
      "  \"input\": {\n",
      "    \"text\": \"Hello\"\n",
      "  },\n",
      "  \"output\": {\n",
      "    \"generic\": [\n",
      "      {\n",
      "        \"response_type\": \"text\",\n",
      "        \"text\": \"I didn't understand. You can try rephrasing.\"\n",
      "      }\n",
      "    ],\n",
      "    \"text\": [\n",
      "      \"I didn't understand. You can try rephrasing.\"\n",
      "    ],\n",
      "    \"nodes_visited\": [\n",
      "      \"Anything else\"\n",
      "    ],\n",
      "    \"log_messages\": []\n",
      "  },\n",
      "  \"context\": {\n",
      "    \"conversation_id\": \"6a98bec8-631e-49a5-8831-064b701ec376\",\n",
      "    \"system\": {\n",
      "      \"initialized\": true,\n",
      "      \"dialog_stack\": [\n",
      "        {\n",
      "          \"dialog_node\": \"root\"\n",
      "        }\n",
      "      ],\n",
      "      \"dialog_turn_counter\": 1,\n",
      "      \"dialog_request_counter\": 1,\n",
      "      \"_node_output_map\": {\n",
      "        \"Anything else\": {\n",
      "          \"0\": [\n",
      "            0\n",
      "          ]\n",
      "        }\n",
      "      },\n",
      "      \"branch_exited\": true,\n",
      "      \"branch_exited_reason\": \"completed\"\n",
      "    }\n",
      "  }\n",
      "}\n"
     ]
    }
   ],
   "source": [
    "import json\n",
    "import ibm_watson\n",
    "\n",
    "assistant = ibm_watson.AssistantV1(\n",
    "    version='2019-02-28',\n",
    "    iam_apikey='1NoqVKD8RvDB6r4G-tJ-M6nCk3CCFItOGrtTo_-vzb0h',\n",
    "    url='https://gateway-syd.watsonplatform.net/assistant/api'\n",
    ")\n",
    "\n",
    "response = assistant.message(\n",
    "    workspace_id='34f3a0b7-b674-4887-9b11-ed5017e9beb2',\n",
    "    input={\n",
    "        'text': 'Hello'\n",
    "    }\n",
    ").get_result()\n",
    "\n",
    "print(json.dumps(response, indent=2))"
   ]
  },
  {
   "cell_type": "code",
   "execution_count": 5,
   "metadata": {},
   "outputs": [],
   "source": [
    "response = assistant.message(\n",
    "    workspace_id='34f3a0b7-b674-4887-9b11-ed5017e9beb2',\n",
    "    input={\n",
    "        'text': 'cam'\n",
    "    }\n",
    ").get_result()"
   ]
  },
  {
   "cell_type": "code",
   "execution_count": 8,
   "metadata": {},
   "outputs": [
    {
     "data": {
      "text/plain": [
       "{'intents': [{'intent': 'general_ending', 'confidence': 0.7545415878295898}],\n",
       " 'entities': [{'entity': 'orange',\n",
       "   'location': [0, 3],\n",
       "   'value': 'cam',\n",
       "   'confidence': 1}],\n",
       " 'input': {'text': 'cam'},\n",
       " 'output': {'generic': [{'response_type': 'text',\n",
       "    'text': \"I didn't understand. You can try rephrasing.\"}],\n",
       "  'text': [\"I didn't understand. You can try rephrasing.\"],\n",
       "  'nodes_visited': ['Anything else'],\n",
       "  'log_messages': []},\n",
       " 'context': {'conversation_id': 'a5b5f4ee-5da9-4fdc-a756-0b6d616f4eca',\n",
       "  'system': {'initialized': True,\n",
       "   'dialog_stack': [{'dialog_node': 'root'}],\n",
       "   'dialog_turn_counter': 1,\n",
       "   'dialog_request_counter': 1,\n",
       "   '_node_output_map': {'Anything else': {'0': [0]}},\n",
       "   'branch_exited': True,\n",
       "   'branch_exited_reason': 'completed'}}}"
      ]
     },
     "execution_count": 8,
     "metadata": {},
     "output_type": "execute_result"
    }
   ],
   "source": [
    "response"
   ]
  },
  {
   "cell_type": "code",
   "execution_count": null,
   "metadata": {},
   "outputs": [],
   "source": []
  }
 ],
 "metadata": {
  "kernelspec": {
   "display_name": "Python 3",
   "language": "python",
   "name": "python3"
  },
  "language_info": {
   "codemirror_mode": {
    "name": "ipython",
    "version": 3
   },
   "file_extension": ".py",
   "mimetype": "text/x-python",
   "name": "python",
   "nbconvert_exporter": "python",
   "pygments_lexer": "ipython3",
   "version": "3.7.2"
  }
 },
 "nbformat": 4,
 "nbformat_minor": 2
}
